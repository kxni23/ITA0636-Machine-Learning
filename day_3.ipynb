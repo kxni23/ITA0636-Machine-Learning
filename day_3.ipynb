{
  "nbformat": 4,
  "nbformat_minor": 0,
  "metadata": {
    "colab": {
      "provenance": [],
      "authorship_tag": "ABX9TyOcIjMrphy+ITri9bcaz5xN",
      "include_colab_link": true
    },
    "kernelspec": {
      "name": "python3",
      "display_name": "Python 3"
    },
    "language_info": {
      "name": "python"
    }
  },
  "cells": [
    {
      "cell_type": "markdown",
      "metadata": {
        "id": "view-in-github",
        "colab_type": "text"
      },
      "source": [
        "<a href=\"https://colab.research.google.com/github/kxni23/ITA0636-Machine-Learning/blob/main/day_3.ipynb\" target=\"_parent\"><img src=\"https://colab.research.google.com/assets/colab-badge.svg\" alt=\"Open In Colab\"/></a>"
      ]
    },
    {
      "cell_type": "code",
      "execution_count": 8,
      "metadata": {
        "colab": {
          "base_uri": "https://localhost:8080/"
        },
        "id": "ARq3qBeQINoN",
        "outputId": "108058db-01e4-4aa1-a26e-24aec898b760"
      },
      "outputs": [
        {
          "output_type": "stream",
          "name": "stdout",
          "text": [
            "Accuracy: 0.5\n",
            "Classification Report:\n",
            "              precision    recall  f1-score   support\n",
            "\n",
            "    negative       0.50      1.00      0.67         1\n",
            "    positive       0.00      0.00      0.00         1\n",
            "\n",
            "    accuracy                           0.50         2\n",
            "   macro avg       0.25      0.50      0.33         2\n",
            "weighted avg       0.25      0.50      0.33         2\n",
            "\n"
          ]
        },
        {
          "output_type": "stream",
          "name": "stderr",
          "text": [
            "/usr/local/lib/python3.10/dist-packages/sklearn/metrics/_classification.py:1344: UndefinedMetricWarning: Precision and F-score are ill-defined and being set to 0.0 in labels with no predicted samples. Use `zero_division` parameter to control this behavior.\n",
            "  _warn_prf(average, modifier, msg_start, len(result))\n",
            "/usr/local/lib/python3.10/dist-packages/sklearn/metrics/_classification.py:1344: UndefinedMetricWarning: Precision and F-score are ill-defined and being set to 0.0 in labels with no predicted samples. Use `zero_division` parameter to control this behavior.\n",
            "  _warn_prf(average, modifier, msg_start, len(result))\n",
            "/usr/local/lib/python3.10/dist-packages/sklearn/metrics/_classification.py:1344: UndefinedMetricWarning: Precision and F-score are ill-defined and being set to 0.0 in labels with no predicted samples. Use `zero_division` parameter to control this behavior.\n",
            "  _warn_prf(average, modifier, msg_start, len(result))\n"
          ]
        }
      ],
      "source": [
        "import pandas as pd\n",
        "from sklearn.model_selection import train_test_split\n",
        "from sklearn.feature_extraction.text import CountVectorizer\n",
        "from sklearn.naive_bayes import MultinomialNB\n",
        "from sklearn.metrics import accuracy_score, classification_report\n",
        "\n",
        "# 1. Data Preparation\n",
        "data = {'text': ['I love this movie', 'This movie is terrible', 'I enjoyed this film', 'I hate this movie', 'Fantastic film', 'Worst film ever'],\n",
        "        'label': ['positive', 'negative', 'positive', 'negative', 'positive', 'negative']}\n",
        "df = pd.DataFrame(data)\n",
        "\n",
        "# 2. Feature Extraction\n",
        "X = df['text']\n",
        "y = df['label']\n",
        "vectorizer = CountVectorizer()\n",
        "X_vectorized = vectorizer.fit_transform(X)\n",
        "\n",
        "# 3. Model Training\n",
        "X_train, X_test, y_train, y_test = train_test_split(X_vectorized, y, test_size=0.3, random_state=42)\n",
        "model = MultinomialNB()\n",
        "model.fit(X_train, y_train)\n",
        "\n",
        "# 4. Model Prediction\n",
        "y_pred = model.predict(X_test)\n",
        "\n",
        "# 5. Evaluation\n",
        "accuracy = accuracy_score(y_test, y_pred)\n",
        "report = classification_report(y_test, y_pred)\n",
        "\n",
        "# Output results\n",
        "print(f\"Accuracy: {accuracy}\")\n",
        "print(f\"Classification Report:\\n{report}\")\n",
        "\n"
      ]
    },
    {
      "cell_type": "code",
      "source": [
        "import pandas as pd\n",
        "import matplotlib.pyplot as plt\n",
        "from sklearn.model_selection import train_test_split\n",
        "from sklearn.preprocessing import StandardScaler\n",
        "from sklearn.linear_model import LogisticRegression\n",
        "from sklearn.metrics import accuracy_score\n",
        "\n",
        "# Step a: Read the IRIS.csv dataset using the Pandas module\n",
        "df = pd.read_csv('/content/IRIS.csv')\n",
        "\n",
        "# Display the first few rows of the dataframe\n",
        "print(df.head())\n",
        "\n",
        "# Step b: Plot the data using a scatter plot \"sepal_width\" versus \"sepal_length\" and color species\n",
        "plt.figure(figsize=(10, 6))\n",
        "species = {'Iris-setosa': 'red', 'Iris-versicolor': 'green', 'Iris-virginica': 'blue'}\n",
        "for sp in df['species'].unique():\n",
        "    subset = df[df['species'] == sp]\n",
        "    plt.scatter(subset['sepal_length'], subset['sepal_width'], c=species[sp], label=sp)\n",
        "plt.xlabel('Sepal Length')\n",
        "plt.ylabel('Sepal Width')\n",
        "plt.title('Scatter plot of Sepal Width vs Sepal Length')\n",
        "plt.legend()\n",
        "plt.show()\n",
        "\n",
        "# Step c: Split the data into training and testing sets\n",
        "X = df.drop('species', axis=1)\n",
        "y = df['species']\n",
        "X_train, X_test, y_train, y_test = train_test_split(X, y, test_size=0.2, random_state=42)\n",
        "\n",
        "# Step d: Fit the data to the model\n",
        "scaler = StandardScaler()\n",
        "X_train_scaled = scaler.fit_transform(X_train)\n",
        "X_test_scaled = scaler.transform(X_test)\n",
        "\n",
        "model = LogisticRegression(max_iter=200)\n",
        "model.fit(X_train_scaled, y_train)\n",
        "\n",
        "# Predict the model on the test data\n",
        "y_pred = model.predict(X_test_scaled)\n",
        "accuracy = accuracy_score(y_test, y_pred)\n",
        "print(f\"Model accuracy on the test set: {accuracy:.2f}\")\n",
        "\n",
        "# Step e: Predict the model with new test data [5, 3, 1, 0.3]\n",
        "new_sample = [[5, 3, 1, 0.3]]\n",
        "new_sample_scaled = scaler.transform(new_sample)\n",
        "prediction = model.predict(new_sample_scaled)\n",
        "print(f\"Prediction for the new sample [5, 3, 1, 0.3]: {prediction[0]}\")"
      ],
      "metadata": {
        "colab": {
          "base_uri": "https://localhost:8080/",
          "height": 643
        },
        "id": "NvCYW0fzIc0B",
        "outputId": "986aa3d4-31cf-45da-d3ab-299ff83efaa4"
      },
      "execution_count": 10,
      "outputs": [
        {
          "output_type": "stream",
          "name": "stdout",
          "text": [
            "   sepal_length  sepal_width  petal_length  petal_width      species\n",
            "0           5.1          3.5           1.4          0.2  Iris-setosa\n",
            "1           4.9          3.0           1.4          0.2  Iris-setosa\n",
            "2           4.7          3.2           1.3          0.2  Iris-setosa\n",
            "3           4.6          3.1           1.5          0.2  Iris-setosa\n",
            "4           5.0          3.6           1.4          0.2  Iris-setosa\n"
          ]
        },
        {
          "output_type": "display_data",
          "data": {
            "text/plain": [
              "<Figure size 1000x600 with 1 Axes>"
            ],
            "image/png": "[encoded data removed]"
          },
          "metadata": {}
        },
        {
          "output_type": "stream",
          "name": "stdout",
          "text": [
            "Model accuracy on the test set: 1.00\n",
            "Prediction for the new sample [5, 3, 1, 0.3]: Iris-setosa\n"
          ]
        },
        {
          "output_type": "stream",
          "name": "stderr",
          "text": [
            "/usr/local/lib/python3.10/dist-packages/sklearn/base.py:439: UserWarning: X does not have valid feature names, but StandardScaler was fitted with feature names\n",
            "  warnings.warn(\n"
          ]
        }
      ]
    },
    {
      "cell_type": "code",
      "source": [
        "import pandas as pd\n",
        "from sklearn.model_selection import train_test_split\n",
        "from sklearn.feature_extraction.text import CountVectorizer\n",
        "from sklearn.naive_bayes import MultinomialNB\n",
        "from sklearn.metrics import accuracy_score, classification_report\n",
        "\n",
        "# 1. Data Preparation\n",
        "data = {'text': ['I love this movie', 'This movie is terrible', 'I enjoyed this film', 'I hate this movie', 'Fantastic film', 'Worst film ever'],\n",
        "        'label': ['positive', 'negative', 'positive', 'negative', 'positive', 'negative']}\n",
        "df = pd.DataFrame(data)\n",
        "\n",
        "# 2. Feature Extraction\n",
        "X = df['text']\n",
        "y = df['label']\n",
        "vectorizer = CountVectorizer()\n",
        "X_vectorized = vectorizer.fit_transform(X)\n",
        "\n",
        "# 3. Model Training\n",
        "X_train, X_test, y_train, y_test = train_test_split(X_vectorized, y, test_size=0.3, random_state=42)\n",
        "model = MultinomialNB()\n",
        "model.fit(X_train, y_train)\n",
        "\n",
        "# 4. Model Prediction\n",
        "y_pred = model.predict(X_test)\n",
        "\n",
        "# 5. Evaluation\n",
        "accuracy = accuracy_score(y_test, y_pred)\n",
        "report = classification_report(y_test, y_pred)\n",
        "\n",
        "# Output results\n",
        "print(f\"Accuracy: {accuracy}\")\n",
        "print(f\"Classification Report:\\n{report}\")\n",
        "\n"
      ],
      "metadata": {
        "colab": {
          "base_uri": "https://localhost:8080/"
        },
        "id": "L1TweMbrIc3P",
        "outputId": "47b45746-3556-4464-f5ac-f0e732fd2ae4"
      },
      "execution_count": 6,
      "outputs": [
        {
          "output_type": "stream",
          "name": "stdout",
          "text": [
            "Accuracy: 0.5\n",
            "Classification Report:\n",
            "              precision    recall  f1-score   support\n",
            "\n",
            "    negative       0.50      1.00      0.67         1\n",
            "    positive       0.00      0.00      0.00         1\n",
            "\n",
            "    accuracy                           0.50         2\n",
            "   macro avg       0.25      0.50      0.33         2\n",
            "weighted avg       0.25      0.50      0.33         2\n",
            "\n"
          ]
        },
        {
          "output_type": "stream",
          "name": "stderr",
          "text": [
            "/usr/local/lib/python3.10/dist-packages/sklearn/metrics/_classification.py:1344: UndefinedMetricWarning: Precision and F-score are ill-defined and being set to 0.0 in labels with no predicted samples. Use `zero_division` parameter to control this behavior.\n",
            "  _warn_prf(average, modifier, msg_start, len(result))\n",
            "/usr/local/lib/python3.10/dist-packages/sklearn/metrics/_classification.py:1344: UndefinedMetricWarning: Precision and F-score are ill-defined and being set to 0.0 in labels with no predicted samples. Use `zero_division` parameter to control this behavior.\n",
            "  _warn_prf(average, modifier, msg_start, len(result))\n",
            "/usr/local/lib/python3.10/dist-packages/sklearn/metrics/_classification.py:1344: UndefinedMetricWarning: Precision and F-score are ill-defined and being set to 0.0 in labels with no predicted samples. Use `zero_division` parameter to control this behavior.\n",
            "  _warn_prf(average, modifier, msg_start, len(result))\n"
          ]
        }
      ]
    },
    {
      "cell_type": "code",
      "source": [
        "# Define the dataset\n",
        "data = [\n",
        "    ['Circular', 'Large', 'Light', 'Smooth', 'Thick', 'Malignant'],\n",
        "    ['Circular', 'Large', 'Light', 'Irregular', 'Thick', 'Malignant'],\n",
        "    ['Oval', 'Large', 'Dark', 'Smooth', 'Thin', 'Benign'],\n",
        "    ['Oval', 'Large', 'Light', 'Irregular', 'Thick', 'Malignant']\n",
        "]\n",
        "\n",
        "# Extract the features and target concepts\n",
        "features = [row[:-1] for row in data]\n",
        "targets = [row[-1] for row in data]\n",
        "\n",
        "# Initialize the most specific hypothesis\n",
        "hypothesis = ['0'] * len(features[0])\n",
        "\n",
        "# Implementing the Find-S algorithm\n",
        "for i in range(len(features)):\n",
        "    if targets[i] == 'Malignant':\n",
        "        if hypothesis == ['0'] * len(features[0]):\n",
        "            hypothesis = features[i]\n",
        "        else:\n",
        "            for j in range(len(features[i])):\n",
        "                if hypothesis[j] != features[i][j]:\n",
        "                    hypothesis[j] = '?'\n",
        "\n",
        "# Print the final hypothesis\n",
        "print(\"The most specific hypothesis using Find-S algorithm is:\")\n",
        "print(hypothesis)"
      ],
      "metadata": {
        "colab": {
          "base_uri": "https://localhost:8080/"
        },
        "id": "ijgv3Y_UIc6i",
        "outputId": "aeb9e759-9007-4b07-a71d-44da5454f679"
      },
      "execution_count": 5,
      "outputs": [
        {
          "output_type": "stream",
          "name": "stdout",
          "text": [
            "The most specific hypothesis using Find-S algorithm is:\n",
            "['?', 'Large', 'Light', '?', 'Thick']\n"
          ]
        }
      ]
    },
    {
      "cell_type": "code",
      "source": [
        "import pandas as pd\n",
        "from sklearn.model_selection import train_test_split\n",
        "from sklearn.preprocessing import LabelEncoder\n",
        "from sklearn.naive_bayes import GaussianNB\n",
        "from sklearn.metrics import accuracy_score, confusion_matrix\n",
        "\n",
        "# Step 1: Load the dataset\n",
        "data = {\n",
        "    'Age': ['<=30', '<=30', '31-40', '>40', '>40', '>40', '31-40', '<=30', '<=30', '>40', '<=30', '31-40', '31-40', '>40'],\n",
        "    'Income': ['High', 'High', 'High', 'Medium', 'Low', 'Low', 'Low', 'Medium', 'Low', 'Medium', 'Medium', 'Medium', 'High', 'Medium'],\n",
        "    'Buys Computer': ['No', 'No', 'Yes', 'Yes', 'Yes', 'No', 'Yes', 'No', 'Yes', 'Yes', 'Yes', 'Yes', 'Yes', 'No']\n",
        "}\n",
        "\n",
        "df = pd.DataFrame(data)\n",
        "\n",
        "# Step 2: Encode categorical features\n",
        "age_encoder = LabelEncoder()\n",
        "income_encoder = LabelEncoder()\n",
        "target_encoder = LabelEncoder()\n",
        "\n",
        "df['Age'] = age_encoder.fit_transform(df['Age'])\n",
        "df['Income'] = income_encoder.fit_transform(df['Income'])\n",
        "df['Buys Computer'] = target_encoder.fit_transform(df['Buys Computer'])\n",
        "\n",
        "# Define features (X) and target (y)\n",
        "X = df[['Age', 'Income']]\n",
        "y = df['Buys Computer']\n",
        "\n",
        "# Step 3: Split the data into training and testing sets\n",
        "X_train, X_test, y_train, y_test = train_test_split(X, y, test_size=0.3, random_state=42)\n",
        "\n",
        "# Step 4: Train the Naive Bayes model\n",
        "model = GaussianNB()\n",
        "model.fit(X_train, y_train)\n",
        "\n",
        "# Step 5: Evaluate the model\n",
        "y_pred = model.predict(X_test)\n",
        "accuracy = accuracy_score(y_test, y_pred)\n",
        "conf_matrix = confusion_matrix(y_test, y_pred)\n",
        "\n",
        "print(f\"Accuracy: {accuracy:.2f}\")\n",
        "print(\"Confusion Matrix:\")\n",
        "print(conf_matrix)\n",
        "\n",
        "# Step 6: Make predictions on new data\n",
        "new_data = pd.DataFrame({\n",
        "    'Age': ['<=30', '31-40', '>40'],\n",
        "    'Income': ['Medium', 'Low', 'High']\n",
        "})\n",
        "\n",
        "# Use the same encoders to transform new data\n",
        "new_data['Age'] = age_encoder.transform(new_data['Age'])\n",
        "new_data['Income'] = income_encoder.transform(new_data['Income'])\n",
        "\n",
        "predictions = model.predict(new_data)\n",
        "predicted_labels = target_encoder.inverse_transform(predictions)\n",
        "\n",
        "print(\"Predictions for new data:\")\n",
        "for i, label in enumerate(predicted_labels):\n",
        "    print(f\"Sample {i+1}: Buys Computer - {label}\")"
      ],
      "metadata": {
        "colab": {
          "base_uri": "https://localhost:8080/"
        },
        "id": "UKzL1sEYIc9f",
        "outputId": "ba7532fb-cf11-46a6-c3e8-93d9a9dca721"
      },
      "execution_count": 4,
      "outputs": [
        {
          "output_type": "stream",
          "name": "stdout",
          "text": [
            "Accuracy: 0.60\n",
            "Confusion Matrix:\n",
            "[[0 2]\n",
            " [0 3]]\n",
            "Predictions for new data:\n",
            "Sample 1: Buys Computer - Yes\n",
            "Sample 2: Buys Computer - Yes\n",
            "Sample 3: Buys Computer - Yes\n"
          ]
        }
      ]
    },
    {
      "cell_type": "code",
      "source": [
        "\n",
        "import numpy as np\n",
        "import pandas as pd\n",
        "\n",
        "class NaiveBayes:\n",
        "    def fit(self, X, y):\n",
        "        # Separate the training data by class\n",
        "        self.classes = np.unique(y)\n",
        "        self.class_priors = {c: np.mean(y == c) for c in self.classes}\n",
        "        self.means = {}\n",
        "        self.variances = {}\n",
        "\n",
        "        for c in self.classes:\n",
        "            X_c = X[y == c]\n",
        "            self.means[c] = np.mean(X_c, axis=0)\n",
        "            self.variances[c] = np.var(X_c, axis=0)\n",
        "\n",
        "    def _calculate_likelihood(self, x, mean, var):\n",
        "        # Gaussian likelihood of the data x\n",
        "        exponent = np.exp(-((x - mean) ** 2) / (2 * var))\n",
        "        return (1 / np.sqrt(2 * np.pi * var)) * exponent\n",
        "\n",
        "    def _calculate_posterior(self, x):\n",
        "        posteriors = []\n",
        "        for c in self.classes:\n",
        "            prior = np.log(self.class_priors[c])\n",
        "            likelihoods = self._calculate_likelihood(x, self.means[c], self.variances[c])\n",
        "            posterior = prior + np.sum(np.log(likelihoods))\n",
        "            posteriors.append(posterior)\n",
        "        return self.classes[np.argmax(posteriors)]\n",
        "\n",
        "    def predict(self, X):\n",
        "        return np.array([self._calculate_posterior(x) for x in X])\n",
        "\n",
        "# Example dataset\n",
        "data = {\n",
        "    'feature1': [1, 2, 3, 4, 5, 6],\n",
        "    'feature2': [2, 3, 4, 5, 6, 7],\n",
        "    'label': [0, 0, 1, 1, 0, 1]\n",
        "}\n",
        "\n",
        "df = pd.DataFrame(data)\n",
        "\n",
        "X = df[['feature1', 'feature2']].values\n",
        "y = df['label'].values\n",
        "\n",
        "# Train the model\n",
        "nb = NaiveBayes()\n",
        "nb.fit(X, y)\n",
        "\n",
        "# Predict on new data\n",
        "X_test = np.array([[1, 2], [6, 7]])\n",
        "predictions = nb.predict(X_test)\n",
        "\n",
        "print(\"Predictions:\", predictions)\n"
      ],
      "metadata": {
        "colab": {
          "base_uri": "https://localhost:8080/"
        },
        "id": "39Ii4Ue_IdA-",
        "outputId": "91070a8d-da0d-4c3a-df31-38da4804f9b8"
      },
      "execution_count": 3,
      "outputs": [
        {
          "output_type": "stream",
          "name": "stdout",
          "text": [
            "Predictions: [0 1]\n"
          ]
        }
      ]
    },
    {
      "cell_type": "code",
      "source": [
        "import pandas as pd\n",
        "# Define the dataset\n",
        "data = {\n",
        "    'Size': ['Big', 'Small', 'Small', 'Big', 'Small'],\n",
        "    'Color': ['Red', 'Red', 'Red', 'Blue', 'Blue'],\n",
        "    'Shape': ['Circle', 'Triangle', 'Circle', 'Circle', 'Circle'],\n",
        "    'Class': ['No', 'No', 'Yes', 'No', 'Yes']\n",
        "}\n",
        "# Create a DataFrame\n",
        "df = pd.DataFrame(data)\n",
        "\n",
        "# Find-S Algorithm\n",
        "def find_s_algorithm(df):\n",
        "    # Initialize the most specific hypothesis\n",
        "    hypothesis = None\n",
        "\n",
        "    # Iterate through the dataset\n",
        "    for i in range(len(df)):\n",
        "        if df['Class'][i] == 'Yes':\n",
        "            if hypothesis is None:\n",
        "                hypothesis = df.iloc[i][:-1].tolist()\n",
        "            else:\n",
        "                for j in range(len(hypothesis)):\n",
        "                    if hypothesis[j] != df.iloc[i][j]:\n",
        "                        hypothesis[j] = '?'\n",
        "\n",
        "    return hypothesis\n",
        "\n",
        "# Execute the Find-S algorithm\n",
        "hypothesis = find_s_algorithm(df)\n",
        "\n",
        "# Output the final hypothesis\n",
        "print(\"The most specific hypothesis is:\", hypothesis)\n",
        "\n"
      ],
      "metadata": {
        "colab": {
          "base_uri": "https://localhost:8080/"
        },
        "id": "1atjx_PsIdEG",
        "outputId": "2eb1d71b-7c0a-4840-f3d1-4a82c99fedaf"
      },
      "execution_count": 2,
      "outputs": [
        {
          "output_type": "stream",
          "name": "stdout",
          "text": [
            "The most specific hypothesis is: ['Small', '?', 'Circle']\n"
          ]
        }
      ]
    },
    {
      "cell_type": "code",
      "source": [
        "import numpy as np\n",
        "import pandas as pd\n",
        "import matplotlib.pyplot as plt\n",
        "from sklearn.model_selection import train_test_split\n",
        "from sklearn.linear_model import LinearRegression\n",
        "from sklearn.metrics import mean_squared_error, r2_score\n",
        "\n",
        "# Step 1: Generate sample data\n",
        "np.random.seed(0)\n",
        "X = 2 * np.random.rand(100, 1)\n",
        "y = 4 + 3 * X + np.random.randn(100, 1)\n",
        "\n",
        "# Convert to DataFrame for easier handling\n",
        "data = pd.DataFrame(np.c_[X, y], columns=['X', 'y'])\n",
        "\n",
        "# Step 2: Split the data into training and testing sets\n",
        "X_train, X_test, y_train, y_test = train_test_split(data[['X']], data['y'], test_size=0.2, random_state=42)\n",
        "\n",
        "# Step 3: Implement Linear Regression\n",
        "model = LinearRegression()\n",
        "model.fit(X_train, y_train)\n",
        "\n",
        "# Step 4: Make predictions\n",
        "y_pred_train = model.predict(X_train)\n",
        "y_pred_test = model.predict(X_test)\n",
        "\n",
        "# Step 5: Evaluate the model\n",
        "mse_train = mean_squared_error(y_train, y_pred_train)\n",
        "mse_test = mean_squared_error(y_test, y_pred_test)\n",
        "r2_train = r2_score(y_train, y_pred_train)\n",
        "r2_test = r2_score(y_test, y_pred_test)\n",
        "\n",
        "# Print evaluation metrics\n",
        "print(f\"Training set Mean Squared Error: {mse_train:.2f}\")\n",
        "print(f\"Testing set Mean Squared Error: {mse_test:.2f}\")\n",
        "print(f\"Training set R-squared: {r2_train:.2f}\")\n",
        "print(f\"Testing set R-squared: {r2_test:.2f}\")\n",
        "\n",
        "# Plotting the results\n",
        "plt.figure(figsize=(10, 5))\n",
        "\n",
        "# Training set\n",
        "plt.subplot(1, 2, 1)\n",
        "plt.scatter(X_train, y_train, color='blue', label='Training data')\n",
        "plt.plot(X_train, y_pred_train, color='red', linewidth=2, label='Regression line')\n",
        "plt.title('Training set')\n",
        "plt.xlabel('X')\n",
        "plt.ylabel('y')\n",
        "plt.legend()\n",
        "\n",
        "# Testing set\n",
        "plt.subplot(1, 2, 2)\n",
        "plt.scatter(X_test, y_test, color='green', label='Testing data')\n",
        "plt.plot(X_test, y_pred_test, color='red', linewidth=2, label='Regression line')\n",
        "plt.title('Testing set')\n",
        "plt.xlabel('X')\n",
        "plt.ylabel('y')\n",
        "plt.legend()\n",
        "\n",
        "plt.tight_layout()\n",
        "plt.show()\n"
      ],
      "metadata": {
        "colab": {
          "base_uri": "https://localhost:8080/",
          "height": 418
        },
        "id": "eW7heHeSIdG-",
        "outputId": "9fca78be-23af-43c5-8714-b01e95613e37"
      },
      "execution_count": 1,
      "outputs": [
        {
          "output_type": "stream",
          "name": "stdout",
          "text": [
            "Training set Mean Squared Error: 1.01\n",
            "Testing set Mean Squared Error: 0.92\n",
            "Training set R-squared: 0.76\n",
            "Testing set R-squared: 0.65\n"
          ]
        },
        {
          "output_type": "display_data",
          "data": {
            "text/plain": [
              "<Figure size 1000x500 with 2 Axes>"
            ],
            "image/png": "[encoded data removed]"
          },
          "metadata": {}
        }
      ]
    },
    {
      "cell_type": "code",
      "source": [],
      "metadata": {
        "id": "C_VzTqZdIdKW"
      },
      "execution_count": null,
      "outputs": []
    }
  ]
}